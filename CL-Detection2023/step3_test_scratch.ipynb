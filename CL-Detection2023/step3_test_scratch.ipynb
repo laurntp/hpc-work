{
 "cells": [
  {
   "cell_type": "code",
   "execution_count": 1,
   "metadata": {},
   "outputs": [],
   "source": [
    "# data parameters | 数据文件路径\n",
    "#parser.add_argument('--test_csv_path', type=str)\n",
    "test_path=\"/rds/user/hpcpin1/hpc-work/SegProject/Datasets/Cytomine/Cephalo/Train\"\n",
    "\n",
    "# model load dir path | 存放模型的文件夹路径\n",
    "#parser.add_argument('--load_weight_path', type=str)\n",
    "load_weight_path=\"/rds/user/hpcpin1/hpc-work/CL-Detection2023/model_noaug_nonorm__L1_18091358/checkpoint_epoch_390.pt\"\n",
    "# model hyper-parameters: image_width and image_height\n",
    "#parser.add_argument('--image_width', type=int, default=512)\n",
    "#parser.add_argument('--image_height', type=int, default=512)\n",
    "image_width=512\n",
    "\n",
    "# model test hyper-parameters\n",
    "#parser.add_argument('--cuda_id', type=int, default=0)\n",
    "cuda_id=0\n",
    "#parser.add_argument('--model_name', type=str, default='UNet')\n",
    "model_name=\"UNet\"\n",
    "# result & save\n",
    "\n",
    "#parser.add_argument('--save_image', type=bool, default=True)\n",
    "save_image=False\n",
    "#parser.add_argument('--save_image_dir', type=str, default='./visualize/')\n",
    "save_image_dir='./visualize/'"
   ]
  },
  {
   "cell_type": "code",
   "execution_count": 2,
   "metadata": {},
   "outputs": [
    {
     "name": "stdout",
     "output_type": "stream",
     "text": [
      "current directory : /rds/user/hpcpin1/hpc-work/CL-Detection2023\n",
      "['/rds/user/hpcpin1/hpc-work/CL-Detection2023', '/rds/user/hpcpin1/hpc-work/SegProject', '/home/hpcpin1/.conda/envs/torch2/lib/python310.zip', '/home/hpcpin1/.conda/envs/torch2/lib/python3.10', '/home/hpcpin1/.conda/envs/torch2/lib/python3.10/lib-dynload', '', '/home/hpcpin1/.conda/envs/torch2/lib/python3.10/site-packages']\n"
     ]
    }
   ],
   "source": [
    "# !/usr/bin/env python\n",
    "# -*- coding:utf-8 -*-\n",
    "# author: zhanghongyuan2017@email.szu.edu.cn\n",
    "\n",
    "import os\n",
    "import tqdm\n",
    "import torch\n",
    "import argparse\n",
    "import numpy as np\n",
    "from torchvision import transforms\n",
    "from torch.utils.data import DataLoader\n",
    "from torch.utils.tensorboard import SummaryWriter\n",
    "\n",
    "import warnings\n",
    "warnings.filterwarnings('ignore')\n",
    "\n",
    "#from utils.tranforms import Rescale, RandomHorizontalFlip, ToTensor\n",
    "#from utils.dataset import CephXrayDataset\n",
    "from utils.model import load_model\n",
    "from utils.losses import load_loss\n",
    "\n",
    "\n",
    "from utils.cldetection_utils import check_and_make_dir\n",
    "\n",
    "import sys\n",
    "print(\"current directory :\", os.getcwd())\n",
    "sys.path.insert(1, '/rds/user/hpcpin1/hpc-work/SegProject')\n",
    "print(sys.path)\n",
    "from utils.dataLoader import LandmarksDataset_NoNorm, ToTensorCL, ToTensorLH, Rescale, RandomScale, AugColor, Rotate\n",
    "\n",
    "##########VALIDATION CHECK\n",
    "train_csv_path=\"/rds/user/hpcpin1/hpc-work/SegProject/Datasets/Cytomine/Cephalo/Train\"\n",
    "valid_csv_path=\"/rds/user/hpcpin1/hpc-work/SegProject/Datasets/Cytomine/Cephalo/Val\"\n",
    "\n",
    "\n",
    "\n",
    "img_path = os.path.join(train_csv_path, 'Images')\n",
    "label_path = os.path.join(train_csv_path, 'landmarks')\n",
    "\n",
    "\n",
    "train_dataset = LandmarksDataset_NoNorm(img_path=img_path,\n",
    "                                 label_path=label_path,\n",
    "                                transform = transforms.Compose([\n",
    "                                             Rescale(512),\n",
    "                                             ToTensorCL()])\n",
    "                                 )\n",
    "\n",
    "img_path = os.path.join(valid_csv_path, 'Images')\n",
    "label_path = os.path.join(valid_csv_path, 'landmarks')\n",
    "val_dataset = LandmarksDataset_NoNorm(img_path=img_path,\n",
    "                                 label_path=label_path,\n",
    "                                 transform = transforms.Compose([\n",
    "                                             Rescale(512),\n",
    "                                             ToTensorCL()])\n",
    "                                 )\n",
    "\n",
    "\n",
    "\n",
    "train_loader = torch.utils.data.DataLoader(train_dataset, batch_size = 8, shuffle = True, num_workers = 2)\n",
    "valid_loader = torch.utils.data.DataLoader(val_dataset, batch_size = 8, num_workers = 2)\n",
    "\n",
    "# train_loader = DataLoader(train_dataset,\n",
    "#                           batch_size=config.batch_size,\n",
    "#                           shuffle=True,\n",
    "#                           num_workers=config.num_workers)\n",
    "# valid_loader = DataLoader(valid_dataset,\n",
    "#                           batch_size=config.batch_size_valid,\n",
    "#                           shuffle=False,\n",
    "#                           num_workers=config.num_workers)\n",
    "\n",
    "# load model\n",
    "# GPU device\n",
    "gpu_id = cuda_id\n",
    "os.environ[\"CUDA_VISIBLE_DEVICES\"] = \"{}\".format(gpu_id)\n",
    "device = torch.device('cuda:{}'.format(gpu_id) if torch.cuda.is_available() else 'cpu')\n",
    "\n",
    "# load model\n",
    "model = load_model(model_name='UNet')\n",
    "model.load_state_dict(torch.load(load_weight_path, map_location=device))\n",
    "model = model.to(device)\n",
    "\n",
    "# optimizer and StepLR scheduler\n",
    "# optimizer = torch.optim.Adam(model.parameters(),\n",
    "#                              lr=config.lr,\n",
    "#                              betas=(config.beta1, config.beta2))\n",
    "# scheduler = torch.optim.lr_scheduler.StepLR(optimizer,\n",
    "#                                             step_size=config.scheduler_step_size,\n",
    "#                                             gamma=config.scheduler_gamma)\n",
    "\n",
    "# model loss function\n",
    "loss_fn = load_loss(loss_name='L1')\n",
    "\n",
    "# model training preparation\n",
    "train_losses = []\n",
    "valid_losses = []\n",
    "best_loss = 1e10\n",
    "num_epoch_no_improvement = 0\n",
    "\n",
    "\n",
    "# start to train and valid\n"
   ]
  },
  {
   "cell_type": "code",
   "execution_count": 3,
   "metadata": {},
   "outputs": [],
   "source": [
    "image, heatmap, landmarks = next(iter(train_loader))   \n"
   ]
  },
  {
   "cell_type": "code",
   "execution_count": 4,
   "metadata": {},
   "outputs": [
    {
     "data": {
      "text/plain": [
       "torch.Size([8, 1, 512, 512])"
      ]
     },
     "execution_count": 4,
     "metadata": {},
     "output_type": "execute_result"
    }
   ],
   "source": [
    "image.shape"
   ]
  },
  {
   "cell_type": "code",
   "execution_count": 5,
   "metadata": {},
   "outputs": [],
   "source": [
    "image2, heatmap2 = image.float().to(device), heatmap.float().to(device)"
   ]
  },
  {
   "cell_type": "code",
   "execution_count": 6,
   "metadata": {},
   "outputs": [
    {
     "data": {
      "text/plain": [
       "torch.Size([8, 1, 512, 512])"
      ]
     },
     "execution_count": 6,
     "metadata": {},
     "output_type": "execute_result"
    }
   ],
   "source": [
    "image.shape"
   ]
  },
  {
   "cell_type": "code",
   "execution_count": 7,
   "metadata": {},
   "outputs": [],
   "source": [
    "with torch.no_grad():\n",
    "    output = model(image2)"
   ]
  },
  {
   "cell_type": "code",
   "execution_count": 8,
   "metadata": {},
   "outputs": [
    {
     "data": {
      "text/plain": [
       "torch.Size([8, 19, 512, 512])"
      ]
     },
     "execution_count": 8,
     "metadata": {},
     "output_type": "execute_result"
    }
   ],
   "source": [
    "output.shape"
   ]
  },
  {
   "cell_type": "code",
   "execution_count": 9,
   "metadata": {},
   "outputs": [
    {
     "name": "stdout",
     "output_type": "stream",
     "text": [
      "tensor(0.0770, device='cuda:0')\n"
     ]
    }
   ],
   "source": [
    "loss = loss_fn(output, heatmap2)\n",
    "print(loss)"
   ]
  },
  {
   "cell_type": "code",
   "execution_count": 10,
   "metadata": {},
   "outputs": [
    {
     "name": "stdout",
     "output_type": "stream",
     "text": [
      "tensor(0., device='cuda:0')\n"
     ]
    }
   ],
   "source": [
    "loss = loss_fn(output, output)\n",
    "print(loss)"
   ]
  },
  {
   "cell_type": "code",
   "execution_count": 11,
   "metadata": {},
   "outputs": [
    {
     "name": "stdout",
     "output_type": "stream",
     "text": [
      "tensor(0., device='cuda:0')\n"
     ]
    }
   ],
   "source": [
    "loss = loss_fn(heatmap2, heatmap2)\n",
    "print(loss)"
   ]
  },
  {
   "cell_type": "code",
   "execution_count": 12,
   "metadata": {},
   "outputs": [
    {
     "name": "stdout",
     "output_type": "stream",
     "text": [
      "tensor(0., dtype=torch.float64)\n"
     ]
    }
   ],
   "source": [
    "loss = loss_fn(heatmap, heatmap)\n",
    "print(loss)"
   ]
  },
  {
   "cell_type": "code",
   "execution_count": 13,
   "metadata": {},
   "outputs": [
    {
     "name": "stdout",
     "output_type": "stream",
     "text": [
      "tensor(0., device='cuda:0')\n",
      "tensor(0., device='cuda:0')\n",
      "tensor(0.0770, device='cuda:0')\n",
      "tensor(0.0024, device='cuda:0')\n"
     ]
    }
   ],
   "source": [
    "image3, heatmap3, landmarks3 = next(iter(train_loader))  \n",
    "image3, heatmap3 = image3.float().to(device), heatmap3.float().to(device)\n",
    "with torch.no_grad():\n",
    "    output3 = model(image3)\n",
    "print(loss_fn(heatmap3, heatmap3))\n",
    "print(loss_fn(output3, output3))\n",
    "print(loss_fn(heatmap3, output3))\n",
    "print(loss_fn(heatmap2, heatmap3))\n"
   ]
  },
  {
   "cell_type": "code",
   "execution_count": 14,
   "metadata": {},
   "outputs": [
    {
     "name": "stdout",
     "output_type": "stream",
     "text": [
      "h4/h4 tensor(0., device='cuda:0')\n",
      "o4/o4 tensor(0., device='cuda:0')\n",
      "h4/o4 tensor(0.0770, device='cuda:0')\n",
      "h4/h3 tensor(0.0025, device='cuda:0')\n"
     ]
    }
   ],
   "source": [
    "image4, heatmap4, landmarks4 = next(iter(train_loader))  \n",
    "image4, heatmap4 = image4.float().to(device), heatmap4.float().to(device)\n",
    "with torch.no_grad():\n",
    "    output4 = model(image4)\n",
    "print(\"h4/h4\", loss_fn(heatmap4, heatmap4))\n",
    "print(\"o4/o4\",loss_fn(output4, output4))\n",
    "print(\"h4/o4\",loss_fn(heatmap4, output4))\n",
    "print(\"h4/h3\",loss_fn(heatmap4, heatmap3))"
   ]
  },
  {
   "cell_type": "code",
   "execution_count": 15,
   "metadata": {},
   "outputs": [
    {
     "name": "stdout",
     "output_type": "stream",
     "text": [
      "h4/o4 tensor(0.0770, device='cuda:0')\n",
      "h4/h4 tensor(0., device='cuda:0')\n",
      "o4/o4 tensor(0., device='cuda:0')\n",
      "h4/h3 tensor(0.0023, device='cuda:0')\n"
     ]
    }
   ],
   "source": [
    "image4, heatmap4, landmarks4 = next(iter(train_loader))  \n",
    "image4, heatmap4 = image4.float().to(device), heatmap4.float().to(device)\n",
    "with torch.no_grad():\n",
    "    output4 = model(image4)\n",
    "print(\"h4/o4\",loss_fn(heatmap4, output4))\n",
    "print(\"h4/h4\", loss_fn(heatmap4, heatmap4))\n",
    "print(\"o4/o4\",loss_fn(output4, output4))\n",
    "print(\"h4/h3\",loss_fn(heatmap4, heatmap3))"
   ]
  },
  {
   "cell_type": "code",
   "execution_count": 16,
   "metadata": {},
   "outputs": [
    {
     "name": "stdout",
     "output_type": "stream",
     "text": [
      "h4/o4 tensor(0.0770, device='cuda:0')\n",
      "o4/h4 tensor(0.0770, device='cuda:0')\n"
     ]
    }
   ],
   "source": [
    "image4, heatmap4, landmarks4 = next(iter(train_loader))  \n",
    "image4, heatmap4 = image4.float().to(device), heatmap4.float().to(device)\n",
    "with torch.no_grad():\n",
    "    output4 = model(image4)\n",
    "print(\"h4/o4\",loss_fn(heatmap4, output4))\n",
    "print(\"o4/h4\",loss_fn(output4, heatmap4))\n"
   ]
  },
  {
   "cell_type": "code",
   "execution_count": 17,
   "metadata": {},
   "outputs": [
    {
     "name": "stdout",
     "output_type": "stream",
     "text": [
      "tensor(0.0770, device='cuda:0')\n"
     ]
    }
   ],
   "source": [
    "image4, heatmap4, landmarks4 = next(iter(train_loader))  \n",
    "image4, heatmap4 = image4.float().to(device), heatmap4.float().to(device)\n",
    "with torch.no_grad():\n",
    "    output4 = model(image4)\n",
    "print(loss_fn(output4, heatmap4))\n"
   ]
  },
  {
   "cell_type": "code",
   "execution_count": 18,
   "metadata": {},
   "outputs": [
    {
     "name": "stdout",
     "output_type": "stream",
     "text": [
      "tensor(0.0770, device='cuda:0')\n"
     ]
    }
   ],
   "source": [
    "image4, heatmap4, landmarks4 = next(iter(train_loader))  \n",
    "image4, heatmap4 = image4.float().to(device), heatmap4.float().to(device)\n",
    "with torch.no_grad():\n",
    "    output4 = model(image4)\n",
    "print(loss_fn(output4, heatmap4))"
   ]
  },
  {
   "cell_type": "code",
   "execution_count": 19,
   "metadata": {},
   "outputs": [
    {
     "name": "stdout",
     "output_type": "stream",
     "text": [
      "tensor(0.0770, device='cuda:0')\n"
     ]
    }
   ],
   "source": [
    "image4, heatmap4, landmarks4 = next(iter(train_loader))  \n",
    "image4, heatmap4 = image4.float().to(device), heatmap4.float().to(device)\n",
    "with torch.no_grad():\n",
    "    output4 = model(image4)\n",
    "print(loss_fn(output4, heatmap4))"
   ]
  },
  {
   "cell_type": "code",
   "execution_count": 20,
   "metadata": {},
   "outputs": [
    {
     "name": "stdout",
     "output_type": "stream",
     "text": [
      "tensor(0.0770, device='cuda:0')\n"
     ]
    }
   ],
   "source": [
    "image4, heatmap4, landmarks4 = next(iter(train_loader))  \n",
    "image4, heatmap4 = image4.float().to(device), heatmap4.float().to(device)\n",
    "with torch.no_grad():\n",
    "    output4 = model(image4)\n",
    "print(loss_fn(output4, heatmap4))"
   ]
  },
  {
   "cell_type": "code",
   "execution_count": 21,
   "metadata": {},
   "outputs": [
    {
     "name": "stdout",
     "output_type": "stream",
     "text": [
      "tensor(0.0770, device='cuda:0')\n"
     ]
    }
   ],
   "source": [
    "image4, heatmap4, landmarks4 = next(iter(train_loader))  \n",
    "image4, heatmap4 = image4.float().to(device), heatmap4.float().to(device)\n",
    "with torch.no_grad():\n",
    "    output4 = model(image4)\n",
    "print(loss_fn(output4, heatmap4))"
   ]
  },
  {
   "cell_type": "code",
   "execution_count": null,
   "metadata": {},
   "outputs": [],
   "source": []
  }
 ],
 "metadata": {
  "kernelspec": {
   "display_name": "Python 3 (ipykernel)",
   "language": "python",
   "name": "python3"
  },
  "language_info": {
   "codemirror_mode": {
    "name": "ipython",
    "version": 3
   },
   "file_extension": ".py",
   "mimetype": "text/x-python",
   "name": "python",
   "nbconvert_exporter": "python",
   "pygments_lexer": "ipython3",
   "version": "3.10.4"
  }
 },
 "nbformat": 4,
 "nbformat_minor": 4
}
