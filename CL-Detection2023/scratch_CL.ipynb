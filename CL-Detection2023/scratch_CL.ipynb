{
 "cells": [
  {
   "cell_type": "code",
   "execution_count": 7,
   "metadata": {},
   "outputs": [
    {
     "name": "stdout",
     "output_type": "stream",
     "text": [
      "['/rds/user/hpcpin1/hpc-work/CL-Detection2023', '../SegProject', '../SegProject', '../SegProject', '../SegProject', '../SegProject', './SegProject', './SegProject', '/home/hpcpin1/.conda/envs/torch2/lib/python310.zip', '/home/hpcpin1/.conda/envs/torch2/lib/python3.10', '/home/hpcpin1/.conda/envs/torch2/lib/python3.10/lib-dynload', '', '/home/hpcpin1/.conda/envs/torch2/lib/python3.10/site-packages']\n"
     ]
    }
   ],
   "source": [
    "import sys\n",
    "sys.path.insert(1, '../SegProject')\n",
    "from utils.dataLoader import LandmarksDataset, ToTensor, ToTensorLH, Rescale, RandomScale, AugColor, Rotate\n",
    "print(sys.path)"
   ]
  }
 ],
 "metadata": {
  "kernelspec": {
   "display_name": "torch2",
   "language": "python",
   "name": "python3"
  },
  "language_info": {
   "codemirror_mode": {
    "name": "ipython",
    "version": 3
   },
   "file_extension": ".py",
   "mimetype": "text/x-python",
   "name": "python",
   "nbconvert_exporter": "python",
   "pygments_lexer": "ipython3",
   "version": "3.10.4"
  },
  "orig_nbformat": 4
 },
 "nbformat": 4,
 "nbformat_minor": 2
}
