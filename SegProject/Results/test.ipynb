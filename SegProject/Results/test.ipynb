{
 "cells": [
  {
   "cell_type": "code",
   "execution_count": 1,
   "metadata": {},
   "outputs": [],
   "source": [
    "%load_ext autoreload\n",
    "%autoreload 2\n",
    "\n",
    "train_path = \"../Datasets/JSRT/Train\"\n",
    "test_path = \"../Datasets/JSRT/Test\"\n",
    "val_path = \"../Datasets/JSRT/Val\" \n",
    "\n",
    "import sys \n",
    "sys.path.append('..')\n",
    "\n",
    "from models.hybrid import Hybrid as Hybrid\n",
    "from models.hybridSkip import Hybrid as Skip\n",
    "from models.hybridDoubleSkip import Hybrid as DoubleSkip\n",
    "\n",
    "import os \n",
    "\n",
    "import torch\n",
    "from torchvision import transforms\n",
    "import numpy as np\n",
    "\n",
    "from utils.dataLoader import LandmarksDataset, ToTensor, Rescale\n",
    "from sklearn.metrics import mean_squared_error\n",
    "import scipy.sparse as sp\n",
    "from utils.utils import scipy_to_torch_sparse, genMatrixesLH\n",
    "\n",
    "img_path = os.path.join(train_path, 'Images')\n",
    "label_path = os.path.join(train_path, 'landmarks')\n",
    "test_dataset = LandmarksDataset(img_path=img_path,\n",
    "                                 label_path=label_path,\n",
    "                                 transform = transforms.Compose([\n",
    "                                             Rescale(1024),\n",
    "                                             ToTensor()])\n",
    "                                 )\n",
    "\n",
    "device = 'cpu'\n",
    "\n",
    "sample = test_dataset[0]"
   ]
  }
 ],
 "metadata": {
  "kernelspec": {
   "display_name": "torch",
   "language": "python",
   "name": "python3"
  },
  "language_info": {
   "codemirror_mode": {
    "name": "ipython",
    "version": 3
   },
   "file_extension": ".py",
   "mimetype": "text/x-python",
   "name": "python",
   "nbconvert_exporter": "python",
   "pygments_lexer": "ipython3",
   "version": "3.9.7"
  },
  "orig_nbformat": 4
 },
 "nbformat": 4,
 "nbformat_minor": 2
}
